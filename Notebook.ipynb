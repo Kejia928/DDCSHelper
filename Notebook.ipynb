{
 "cells": [
  {
   "cell_type": "code",
   "execution_count": 1,
   "metadata": {
    "pycharm": {
     "name": "#%%\n"
    }
   },
   "outputs": [],
   "source": [
    "import DDCS as DDCS"
   ]
  },
  {
   "cell_type": "markdown",
   "metadata": {
    "pycharm": {
     "name": "#%% md\n"
    }
   },
   "source": [
    "## Statistic\n",
    "This function can calculate the Mean, Median, Standard Deviation, Variance"
   ]
  },
  {
   "cell_type": "code",
   "execution_count": 2,
   "metadata": {
    "pycharm": {
     "name": "#%%\n"
    }
   },
   "outputs": [
    {
     "name": "stdout",
     "output_type": "stream",
     "text": [
      "Mean: 1.7142857142857142\n",
      "Median: 2.0\n",
      "Sample Standard Deviation: 3.498298906339371\n",
      "Sample Variance: 12.238095238095239\n"
     ]
    },
    {
     "data": {
      "text/plain": [
       "(1.7142857142857142, 2.0, 3.498298906339371, 12.238095238095239)"
      ]
     },
     "execution_count": 2,
     "metadata": {},
     "output_type": "execute_result"
    }
   ],
   "source": [
    "array = [-3, 2, 4, 6, -2, 0, 5]\n",
    "DDCS.statistic(array)"
   ]
  },
  {
   "cell_type": "markdown",
   "metadata": {
    "pycharm": {
     "name": "#%% md\n"
    }
   },
   "source": [
    "## Distance\n",
    "### Manhattan Distance (Numerical)\n",
    "This function can calculate the manhattan distance between numerical data points. This is 1-norm distance (p = 1)."
   ]
  },
  {
   "cell_type": "code",
   "execution_count": 3,
   "metadata": {
    "pycharm": {
     "name": "#%%\n"
    }
   },
   "outputs": [
    {
     "name": "stdout",
     "output_type": "stream",
     "text": [
      "Manhattan Distance: 11\n"
     ]
    },
    {
     "data": {
      "text/plain": [
       "11"
      ]
     },
     "execution_count": 3,
     "metadata": {},
     "output_type": "execute_result"
    }
   ],
   "source": [
    "man_array1 = [4, 5, 6]\n",
    "man_array2 = [2, -1, 3]\n",
    "DDCS.manhattan_distance(man_array1, man_array2)"
   ]
  },
  {
   "cell_type": "markdown",
   "metadata": {
    "pycharm": {
     "name": "#%% md\n"
    }
   },
   "source": [
    "### Euclidean Distance (Numerical)\n",
    "This function can calculate the euclidean distance between numerical data points. This is 2-norm distance (p = 2)."
   ]
  },
  {
   "cell_type": "code",
   "execution_count": 4,
   "metadata": {
    "pycharm": {
     "name": "#%%\n"
    }
   },
   "outputs": [
    {
     "name": "stdout",
     "output_type": "stream",
     "text": [
      "Euclidean Distance: 7.0\n"
     ]
    },
    {
     "data": {
      "text/plain": [
       "7.0"
      ]
     },
     "execution_count": 4,
     "metadata": {},
     "output_type": "execute_result"
    }
   ],
   "source": [
    "euc_array1 = [4, 5, 6]\n",
    "euc_array2 = [2, -1, 3]\n",
    "DDCS.euclidean_distance(euc_array1, euc_array2)"
   ]
  },
  {
   "cell_type": "markdown",
   "metadata": {
    "pycharm": {
     "name": "#%% md\n"
    }
   },
   "source": [
    "### P-norm Distance (Numerical)"
   ]
  },
  {
   "cell_type": "code",
   "execution_count": 5,
   "metadata": {
    "pycharm": {
     "name": "#%%\n"
    }
   },
   "outputs": [
    {
     "name": "stdout",
     "output_type": "stream",
     "text": [
      "3 - norm Distance: 6.307993548663267\n"
     ]
    },
    {
     "data": {
      "text/plain": [
       "6.307993548663267"
      ]
     },
     "execution_count": 5,
     "metadata": {},
     "output_type": "execute_result"
    }
   ],
   "source": [
    "norm_array1 = [4, 5, 6]\n",
    "norm_array2 = [2, -1, 3]\n",
    "p = 3\n",
    "DDCS.p_norm_distance(norm_array1, norm_array2, p)"
   ]
  },
  {
   "cell_type": "markdown",
   "metadata": {
    "pycharm": {
     "name": "#%% md\n"
    }
   },
   "source": [
    "### Chebyshev Distance (Numerical)\n",
    "Select the max distance between x and y."
   ]
  },
  {
   "cell_type": "code",
   "execution_count": 6,
   "metadata": {
    "pycharm": {
     "name": "#%%\n"
    }
   },
   "outputs": [
    {
     "name": "stdout",
     "output_type": "stream",
     "text": [
      "Chebyshev Distance: 6\n"
     ]
    },
    {
     "data": {
      "text/plain": [
       "6"
      ]
     },
     "execution_count": 6,
     "metadata": {},
     "output_type": "execute_result"
    }
   ],
   "source": [
    "cheb_array1 = [4, 5, 6]\n",
    "cheb_array2 = [2, -1, 3]\n",
    "DDCS.chebyshev_distance(cheb_array1, cheb_array2)"
   ]
  },
  {
   "cell_type": "markdown",
   "metadata": {
    "pycharm": {
     "name": "#%% md\n"
    }
   },
   "source": [
    "### Hamming Distance (Symbolic)\n",
    "Defined over symbolic data of the same length.\n",
    "Measure the number of substitutions required to change one string/number into another"
   ]
  },
  {
   "cell_type": "code",
   "execution_count": 7,
   "metadata": {
    "pycharm": {
     "name": "#%%\n"
    }
   },
   "outputs": [
    {
     "name": "stdout",
     "output_type": "stream",
     "text": [
      "Hamming Distance: 3\n"
     ]
    },
    {
     "data": {
      "text/plain": [
       "3"
      ]
     },
     "execution_count": 7,
     "metadata": {},
     "output_type": "execute_result"
    }
   ],
   "source": [
    "hamm_str1 = \"weather\"\n",
    "hamm_str2 = \"further\"\n",
    "DDCS.hamming_distance(hamm_str1, hamm_str2)"
   ]
  },
  {
   "cell_type": "markdown",
   "metadata": {
    "pycharm": {
     "name": "#%% md\n"
    }
   },
   "source": [
    "### Edit Distance (Symbolic)\n",
    "Defined on text data of any length. Measure the minimum number of operations required to transform one sequence of characters onto another. Operations can be: insertion, substitution, deletion."
   ]
  },
  {
   "cell_type": "code",
   "execution_count": 8,
   "metadata": {
    "pycharm": {
     "name": "#%%\n"
    }
   },
   "outputs": [
    {
     "name": "stdout",
     "output_type": "stream",
     "text": [
      "Edit Distance: 4\n"
     ]
    },
    {
     "data": {
      "text/plain": [
       "4"
      ]
     },
     "execution_count": 8,
     "metadata": {},
     "output_type": "execute_result"
    }
   ],
   "source": [
    "edit_str1 = \"water\"\n",
    "edit_str2 = \"further\"\n",
    "DDCS.edit_distance(edit_str1, edit_str2)"
   ]
  },
  {
   "cell_type": "markdown",
   "metadata": {
    "pycharm": {
     "name": "#%% md\n"
    }
   },
   "source": [
    "## Regression\n",
    "### Linear regression\n",
    "\\begin{align}\n",
    "  {\\mathbf{\\hat{w}}}  &= ({{\\mathbf{X}}^T {\\mathbf{X}}})^{-1} {\\mathbf{X}}^T {\\mathbf{y}}\n",
    "\\end{align}"
   ]
  },
  {
   "cell_type": "code",
   "execution_count": 9,
   "metadata": {
    "pycharm": {
     "name": "#%%\n"
    }
   },
   "outputs": [
    {
     "name": "stdout",
     "output_type": "stream",
     "text": [
      "fit_Wh: \n",
      "[[ 2.525     ]\n",
      " [-7.91284404]]\n",
      "Equation: y = 2.5250000000000004 + -7.912844036697248 x\n"
     ]
    },
    {
     "data": {
      "text/plain": [
       "(2.5250000000000004, -7.912844036697248)"
      ]
     },
     "execution_count": 9,
     "metadata": {},
     "output_type": "execute_result"
    }
   ],
   "source": [
    "linear_Xarr = [-1.0, -0.3, 0.3, 1.0]\n",
    "linear_Yarr = [10.3, 5.3, -0.2, -5.3]\n",
    "DDCS.linear_regression(linear_Xarr, linear_Yarr)"
   ]
  },
  {
   "cell_type": "markdown",
   "metadata": {
    "pycharm": {
     "name": "#%% md\n"
    }
   },
   "source": [
    "### Regularisation\n",
    "\\begin{align}\n",
    "  {\\mathbf{\\hat{W}}} &= ({\\mathbf{X}}^T {\\mathbf{X}} + \\sigma^2 {\\mathbf{\\Lambda}})^{-1} {\\mathbf{X}}^T {\\mathbf{y}}\n",
    "\\end{align}"
   ]
  },
  {
   "cell_type": "code",
   "execution_count": 10,
   "metadata": {
    "pycharm": {
     "name": "#%%\n"
    }
   },
   "outputs": [
    {
     "name": "stdout",
     "output_type": "stream",
     "text": [
      "fit_Wh: \n",
      "[[0.01428571]\n",
      " [2.425     ]]\n",
      "Equation: y = 0.01428571428571429 + 2.425 x\n"
     ]
    },
    {
     "data": {
      "text/plain": [
       "(0.01428571428571429, 2.425)"
      ]
     },
     "execution_count": 10,
     "metadata": {},
     "output_type": "execute_result"
    }
   ],
   "source": [
    "reg_Xarr = [-2, -1, 0, 1, 2]\n",
    "reg_Yarr = [-6.2, -2.6, 0.5, 2.7, 5.7]\n",
    "DDCS.regularised(reg_Xarr, reg_Yarr, sigma=1, lam=2)"
   ]
  }
 ],
 "metadata": {
  "kernelspec": {
   "display_name": "Python 3 (ipykernel)",
   "language": "python",
   "name": "python3"
  },
  "language_info": {
   "codemirror_mode": {
    "name": "ipython",
    "version": 3
   },
   "file_extension": ".py",
   "mimetype": "text/x-python",
   "name": "python",
   "nbconvert_exporter": "python",
   "pygments_lexer": "ipython3",
   "version": "3.9.12"
  }
 },
 "nbformat": 4,
 "nbformat_minor": 1
}

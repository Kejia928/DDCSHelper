{
 "cells": [
  {
   "cell_type": "code",
   "execution_count": 1,
   "metadata": {
    "pycharm": {
     "name": "#%%\n"
    }
   },
   "outputs": [],
   "source": [
    "import DDCS as DDCS\n",
    "import numpy as np"
   ]
  },
  {
   "cell_type": "markdown",
   "metadata": {
    "pycharm": {
     "name": "#%% md\n"
    }
   },
   "source": [
    "# Data Characteristics\n",
    "## Distance\n",
    "### Manhattan Distance (Numerical)\n",
    "This function can calculate the manhattan distance between numerical data points. This is 1-norm distance (p = 1)."
   ]
  },
  {
   "cell_type": "code",
   "execution_count": null,
   "metadata": {
    "pycharm": {
     "name": "#%%\n"
    }
   },
   "outputs": [],
   "source": [
    "man_array1 = [1.1]\n",
    "man_array2 = [-1]\n",
    "DDCS.manhattan_distance(man_array1, man_array2)"
   ]
  },
  {
   "cell_type": "markdown",
   "metadata": {
    "pycharm": {
     "name": "#%% md\n"
    }
   },
   "source": [
    "### Euclidean Distance (Numerical)\n",
    "This function can calculate the euclidean distance between numerical data points. This is 2-norm distance (p = 2)."
   ]
  },
  {
   "cell_type": "code",
   "execution_count": null,
   "metadata": {
    "pycharm": {
     "name": "#%%\n"
    }
   },
   "outputs": [],
   "source": [
    "euc_array1 = [1.1]\n",
    "euc_array2 = [-1]\n",
    "DDCS.euclidean_distance(euc_array1, euc_array2)"
   ]
  },
  {
   "cell_type": "markdown",
   "metadata": {
    "pycharm": {
     "name": "#%% md\n"
    }
   },
   "source": [
    "### P-norm Distance (Numerical)"
   ]
  },
  {
   "cell_type": "code",
   "execution_count": null,
   "metadata": {
    "pycharm": {
     "name": "#%%\n"
    }
   },
   "outputs": [],
   "source": [
    "norm_array1 = [2, 4, 3, 6, 8]\n",
    "norm_array2 = [3, 5, 5, 7, 1]\n",
    "p = 2\n",
    "DDCS.p_norm_distance(norm_array1, norm_array2, p)"
   ]
  },
  {
   "cell_type": "markdown",
   "metadata": {
    "pycharm": {
     "name": "#%% md\n"
    }
   },
   "source": [
    "### Chebyshev Distance (Numerical)\n",
    "Select the max distance between x and y."
   ]
  },
  {
   "cell_type": "code",
   "execution_count": null,
   "metadata": {
    "pycharm": {
     "name": "#%%\n"
    }
   },
   "outputs": [],
   "source": [
    "chebyshev_array1 = [4, 5, 6]\n",
    "chebyshev_array2 = [2, -1, 3]\n",
    "DDCS.chebyshev_distance(chebyshev_array1, chebyshev_array2)"
   ]
  },
  {
   "cell_type": "markdown",
   "metadata": {
    "pycharm": {
     "name": "#%% md\n"
    }
   },
   "source": [
    "### Hamming Distance (Symbolic)\n",
    "Defined over symbolic data of the same length.\n",
    "Measure the number of substitutions required to change one string/number into another"
   ]
  },
  {
   "cell_type": "code",
   "execution_count": null,
   "metadata": {
    "pycharm": {
     "name": "#%%\n"
    }
   },
   "outputs": [],
   "source": [
    "hamm_str1 = \"weather\"\n",
    "hamm_str2 = \"further\"\n",
    "DDCS.hamming_distance(hamm_str1, hamm_str2)"
   ]
  },
  {
   "cell_type": "markdown",
   "metadata": {
    "pycharm": {
     "name": "#%% md\n"
    }
   },
   "source": [
    "### Edit Distance (Symbolic)\n",
    "Defined on text data of any length. Measure the minimum number of operations required to transform one sequence of characters onto another. Operations can be: insertion, substitution, deletion."
   ]
  },
  {
   "cell_type": "code",
   "execution_count": null,
   "metadata": {
    "pycharm": {
     "name": "#%%\n"
    }
   },
   "outputs": [],
   "source": [
    "edit_str1 = \"intention\"\n",
    "edit_str2 = \"execution\"\n",
    "DDCS.edit_distance(edit_str1, edit_str2)"
   ]
  },
  {
   "cell_type": "markdown",
   "metadata": {
    "pycharm": {
     "name": "#%% md\n"
    }
   },
   "source": [
    "## Statistics\n",
    "### For one-dimensional data\n",
    "This function can calculate the Mean, Median, Standard Deviation, Variance"
   ]
  },
  {
   "cell_type": "code",
   "execution_count": null,
   "metadata": {
    "pycharm": {
     "name": "#%%\n"
    }
   },
   "outputs": [],
   "source": [
    "oneD = [-3, 2, 4, 6, -2, 0, 5]\n",
    "DDCS.statistic(oneD)"
   ]
  },
  {
   "cell_type": "markdown",
   "metadata": {
    "pycharm": {
     "name": "#%% md\n"
    }
   },
   "source": [
    "### For multi-dimensional data"
   ]
  },
  {
   "cell_type": "markdown",
   "metadata": {
    "pycharm": {
     "name": "#%% md\n"
    }
   },
   "source": [
    "# Maximum Likelihood\n",
    "## Maximum Likelihood Estimate\n",
    "1. Get the probability under the parameter\n",
    "2. Take the natural log\n",
    "3. Take the derivative\n",
    "4. Set the detivative to 0 and calculate it\n",
    "\n",
    "### When introducing prior\n",
    "1. Get the probability under the parameter\n",
    "2. Multiply the probability and prior\n",
    "3. Take the natural log\n",
    "4. Take the derivative\n",
    "5. Set the detective to 0 and calculate it"
   ]
  },
  {
   "cell_type": "markdown",
   "metadata": {
    "pycharm": {
     "name": "#%% md\n"
    }
   },
   "source": [
    "# Regression\n",
    "## Linear regression\n",
    "\\begin{align}\n",
    "  {\\mathbf{\\hat{w}}}  &= ({{\\mathbf{X}}^T {\\mathbf{X}}})^{-1} {\\mathbf{X}}^T {\\mathbf{y}}\n",
    "\\end{align}"
   ]
  },
  {
   "cell_type": "code",
   "execution_count": null,
   "metadata": {
    "pycharm": {
     "name": "#%%\n"
    }
   },
   "outputs": [],
   "source": [
    "linear_Xarr = [-1.0, -0.3, 0.3, 1.0]\n",
    "linear_Yarr = [10.3, 5.3, -0.2, -5.3]\n",
    "DDCS.linear_regression(linear_Xarr, linear_Yarr)"
   ]
  },
  {
   "cell_type": "markdown",
   "metadata": {
    "pycharm": {
     "name": "#%% md\n"
    }
   },
   "source": [
    "## Regularisation\n",
    "\\begin{align}\n",
    "  {\\mathbf{\\hat{W}}} &= ({\\mathbf{X}}^T {\\mathbf{X}} + \\sigma^2 {\\mathbf{\\Lambda}})^{-1} {\\mathbf{X}}^T {\\mathbf{y}}\n",
    "\\end{align}"
   ]
  },
  {
   "cell_type": "code",
   "execution_count": null,
   "metadata": {
    "pycharm": {
     "name": "#%%\n"
    }
   },
   "outputs": [],
   "source": [
    "reg_Xarr = [-2, -1, 0, 1, 2]\n",
    "reg_Yarr = [-6.2, -2.6, 0.5, 2.7, 5.7]\n",
    "DDCS.regularised(reg_Xarr, reg_Yarr, sigma=1, lam=2)"
   ]
  },
  {
   "cell_type": "markdown",
   "metadata": {
    "pycharm": {
     "name": "#%% md\n"
    }
   },
   "source": []
  },
  {
   "cell_type": "markdown",
   "metadata": {
    "pycharm": {
     "name": "#%% md\n"
    }
   },
   "source": [
    "# Classification\n",
    "## Maximum Likelihood Estimate - Logistic\n",
    "1. Transform logits $\\ell$ by using sigmoid function\n",
    "\\begin{align}\n",
    "  f(\\ell) &= \\text{sigmoid}(\\ell) = \\sigma(\\ell)\\\\\n",
    "  f(\\ell) &= \\frac{1}{1+e^{-\\ell}}\n",
    "\\end{align}"
   ]
  },
  {
   "cell_type": "code",
   "execution_count": null,
   "metadata": {
    "pycharm": {
     "name": "#%%\n"
    }
   },
   "outputs": [],
   "source": [
    "# This is sigmoid function\n",
    "logistic = [3, 4, 5]\n",
    "DDCS.logits_to_probabilities(logistic)"
   ]
  },
  {
   "cell_type": "markdown",
   "metadata": {
    "pycharm": {
     "name": "#%% md\n"
    }
   },
   "source": [
    "\n",
    "2. Calculate the probability for each class\n",
    "\n",
    "For Bernoulli distribution:\n",
    "\\begin{align}\n",
    "  P(Y = 1|\\ell) &= \\frac{1}{1+e^{-\\ell}} \\\\\n",
    "  P(Y = 0|\\ell) &= 1-\\frac{1}{1+e^{-\\ell}} = \\frac{1}{1+e^{\\ell}}\n",
    "\\end{align}\n",
    "\n",
    "3. Take log for each probability\n",
    "\n",
    "For Bernoulli distribution\n",
    "\\begin{align}\n",
    "  log P(Y = 1|\\ell) &= log (\\frac{1}{1+e^{-\\ell}}) = -log (1+e^{-\\ell}) \\\\\n",
    "  log P(Y = 0|\\ell) &= log (1-\\frac{1}{1+e^{-\\ell}}) = -log (1+e^{\\ell})\n",
    "\\end{align}\n",
    "\n",
    "4. Take the derivative\n",
    "5. Set the derivate to 0 and calculate the MLE\n",
    "\n",
    "If we already have data, we can directly use calculated log equiation to get log-likelhood"
   ]
  },
  {
   "cell_type": "code",
   "execution_count": null,
   "metadata": {
    "pycharm": {
     "name": "#%%\n"
    }
   },
   "outputs": [],
   "source": [
    "l0 = [-53, -46]\n",
    "l1 = [48, 7]\n",
    "DDCS.classification_MLE_two_class(l0, l1)"
   ]
  },
  {
   "cell_type": "markdown",
   "metadata": {
    "pycharm": {
     "name": "#%% md\n"
    }
   },
   "source": [
    "## K-nearest Neighbours\n",
    "1. Calculate the distance between all data point and new data point\n",
    "2. Choose closest K point\n",
    "3. New data point is of class that need include more closest point"
   ]
  },
  {
   "cell_type": "code",
   "execution_count": null,
   "metadata": {
    "pycharm": {
     "name": "#%%\n"
    }
   },
   "outputs": [],
   "source": [
    "class0 = [[-2.1, -3.2], [-3.4, -1.2], [-2.6, -2.7]]\n",
    "class1 = [[3.2, 2.1], [1.2, 3.6], [0.6, 0]]\n",
    "newDataPoint = [0.2, -0.3]\n",
    "K = 3\n",
    "DDCS.KNN(class0, class1, newDataPoint, K)"
   ]
  },
  {
   "cell_type": "markdown",
   "metadata": {
    "pycharm": {
     "name": "#%% md\n"
    }
   },
   "source": [
    "## Weight-nearest Neighbour\n",
    "1. Calculate the distance between all data point and new data point\n",
    "2. Calculate the weight of distance\n",
    "3. Compare two class weight, new data point is in the highest weight class"
   ]
  },
  {
   "cell_type": "code",
   "execution_count": null,
   "metadata": {
    "pycharm": {
     "name": "#%%\n"
    }
   },
   "outputs": [],
   "source": [
    "# This is WNN function\n",
    "class0 = [[-2.1, -3.2], [-3.4, -1.2], [-2.6, -2.7]]\n",
    "class1 = [[3.2, 2.1], [1.2, 3.6], [0.6, 0]]\n",
    "newDataPoint = [0.2, -0.3]\n",
    "b = 2\n",
    "DDCS.WNN(class0, class1, newDataPoint, b)"
   ]
  },
  {
   "cell_type": "code",
   "execution_count": null,
   "metadata": {
    "pycharm": {
     "name": "#%%\n"
    }
   },
   "outputs": [],
   "source": [
    "# This is for calculate weight for distance\n",
    "b1 = 2\n",
    "distance = 13.7\n",
    "DDCS.weight_calculator(distance, b1)"
   ]
  },
  {
   "cell_type": "markdown",
   "metadata": {
    "pycharm": {
     "name": "#%% md\n"
    }
   },
   "source": [
    " ## Bayesian classification\n",
    " 1. Calculate the mean and standard deviations for each class\n",
    " 2. Then plot distributions over data or claculate the actual values and get probability from Gaussian distribution"
   ]
  },
  {
   "cell_type": "code",
   "execution_count": 24,
   "metadata": {
    "pycharm": {
     "name": "#%%\n"
    }
   },
   "outputs": [
    {
     "data": {
      "image/png": "[encoded data removed]",
      "text/plain": [
       "<Figure size 432x288 with 1 Axes>"
      ]
     },
     "metadata": {
      "needs_background": "light"
     },
     "output_type": "display_data"
    }
   ],
   "source": [
    "# only for one dimensional data\n",
    "class0 = [-2.1, -3.4, -2.6]\n",
    "class1 = [3.2, 1.2, 0.6]\n",
    "newDataPointSet = [-0.3]\n",
    "DDCS.bayesian_classification(class0, class1, newDataPointSet)"
   ]
  },
  {
   "cell_type": "markdown",
   "metadata": {
    "pycharm": {
     "name": "#%% md\n"
    }
   },
   "source": [
    "# Cluster\n",
    "## K-Mean Clustering Algorithm\n",
    "\n",
    "K-Mean clustering is an iterative algorithm, it has two steps until it do not have any change.\n",
    "\n",
    "1. E-step: Calculate the centre of each cluster. The center of each cluster is mean for each cluster. It is normally initialised as random points or as random data point or calculate from predict cluster.\n",
    "\n",
    "2. M-step: Determine the cluster which each data point belong to. This is ofter done by calculation the distance between each point and each cluster center - the cluster which has the closest center is the one that that data point belongs to.\n"
   ]
  },
  {
   "cell_type": "code",
   "execution_count": 2,
   "metadata": {
    "pycharm": {
     "name": "#%%\n"
    }
   },
   "outputs": [],
   "source": [
    "np.random.seed(0)\n",
    "#Replace the DataPoints Here\n",
    "X = np.concatenate([\n",
    "    [[-2.1, -3.2]],\n",
    "    [[-3.4, -1.2]],\n",
    "    [[-2.6, -2.7]],\n",
    "    [[3.2, 2.1]],\n",
    "    [[1.2, 3.6]],\n",
    "    [[0.6, 0]]\n",
    "])\n",
    "#If you want to change the loss function, go loss in DDCS.py\n",
    "kmeans_iter = iter(DDCS.kmeans(X, 2))\n",
    "#You can use next(kmeans_iter) to call the next step"
   ]
  },
  {
   "cell_type": "code",
   "execution_count": 15,
   "metadata": {
    "pycharm": {
     "name": "#%%\n"
    }
   },
   "outputs": [
    {
     "name": "stdout",
     "output_type": "stream",
     "text": [
      "Clustering\n",
      "loss = 1.5433333333333337\n",
      "Centers are: [[-1.875 -1.775]\n",
      " [ 2.2    2.85 ]]\n"
     ]
    },
    {
     "data": {
      "image/png": "[encoded data removed]",
      "text/plain": [
       "<Figure size 432x288 with 1 Axes>"
      ]
     },
     "metadata": {
      "needs_background": "light"
     },
     "output_type": "display_data"
    }
   ],
   "source": [
    "next(kmeans_iter)"
   ]
  },
  {
   "cell_type": "markdown",
   "metadata": {
    "pycharm": {
     "name": "#%% md\n"
    }
   },
   "source": [
    "## Gaussian Mixture Models"
   ]
  },
  {
   "cell_type": "markdown",
   "metadata": {
    "pycharm": {
     "name": "#%% md\n"
    }
   },
   "source": [
    "# Convolution"
   ]
  },
  {
   "cell_type": "code",
   "execution_count": null,
   "metadata": {
    "pycharm": {
     "name": "#%%\n"
    }
   },
   "outputs": [],
   "source": [
    "# one dimension\n",
    "kernel1D = [1, 2, 1]\n",
    "data1D = [1, 1, 2, 2, 1, 1, 0, 1, 2, 2]\n",
    "DDCS.convolution(kernel1D, data1D, dimensions=1)"
   ]
  },
  {
   "cell_type": "code",
   "execution_count": null,
   "metadata": {
    "pycharm": {
     "name": "#%%\n"
    }
   },
   "outputs": [],
   "source": [
    "# two dimension\n",
    "kernel2D = [\n",
    "    [-1, 0, 1],\n",
    "    [-2, 0, 2],\n",
    "    [-1, 0, 1]\n",
    "]\n",
    "data2D = [\n",
    "    [0, 5, 5, 5, 0],\n",
    "    [0, 5, 10, 5, 0],\n",
    "    [0, 10, 10, 10, 0],\n",
    "    [0, 5, 10, 5, 0],\n",
    "    [0, 5, 5, 5, 0]\n",
    "]\n",
    "DDCS.convolution(kernel2D, data2D, dimensions=2)"
   ]
  }
 ],
 "metadata": {
  "kernelspec": {
   "display_name": "Python 3 (ipykernel)",
   "language": "python",
   "name": "python3"
  },
  "language_info": {
   "codemirror_mode": {
    "name": "ipython",
    "version": 3
   },
   "file_extension": ".py",
   "mimetype": "text/x-python",
   "name": "python",
   "nbconvert_exporter": "python",
   "pygments_lexer": "ipython3",
   "version": "3.9.12"
  },
  "toc": {
   "base_numbering": 1,
   "nav_menu": {},
   "number_sections": false,
   "sideBar": true,
   "skip_h1_title": false,
   "title_cell": "Table of Contents",
   "title_sidebar": "Contents",
   "toc_cell": false,
   "toc_position": {},
   "toc_section_display": true,
   "toc_window_display": true
  }
 },
 "nbformat": 4,
 "nbformat_minor": 1
}

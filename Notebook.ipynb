{
 "cells": [
  {
   "cell_type": "code",
   "execution_count": 1,
   "metadata": {
    "pycharm": {
     "name": "#%%\n"
    }
   },
   "outputs": [],
   "source": [
    "import DDCS as DDCS\n",
    "import numpy as np"
   ]
  },
  {
   "cell_type": "markdown",
   "metadata": {
    "pycharm": {
     "name": "#%% md\n"
    }
   },
   "source": [
    "# Data Characteristics\n",
    "## Distance\n",
    "### Manhattan Distance (Numerical)\n",
    "This function can calculate the manhattan distance between numerical data points. This is 1-norm distance (p = 1)."
   ]
  },
  {
   "cell_type": "code",
   "execution_count": 2,
   "metadata": {
    "pycharm": {
     "name": "#%%\n"
    }
   },
   "outputs": [
    {
     "name": "stdout",
     "output_type": "stream",
     "text": [
      "Manhattan Distance: 2.1\n"
     ]
    },
    {
     "data": {
      "text/plain": "2.1"
     },
     "execution_count": 2,
     "metadata": {},
     "output_type": "execute_result"
    }
   ],
   "source": [
    "# Calculate\n",
    "man_array1 = [1.1]\n",
    "man_array2 = [-1]\n",
    "DDCS.manhattan_distance(man_array1, man_array2)"
   ]
  },
  {
   "cell_type": "markdown",
   "metadata": {
    "pycharm": {
     "name": "#%% md\n"
    }
   },
   "source": [
    "### Euclidean Distance (Numerical)\n",
    "This function can calculate the euclidean distance between numerical data points. This is 2-norm distance (p = 2)."
   ]
  },
  {
   "cell_type": "code",
   "execution_count": 3,
   "outputs": [
    {
     "name": "stdout",
     "output_type": "stream",
     "text": [
      "Euclidean Distance: 2.2666666666666666\n"
     ]
    },
    {
     "data": {
      "text/plain": "2.2666666666666666"
     },
     "execution_count": 3,
     "metadata": {},
     "output_type": "execute_result"
    }
   ],
   "source": [
    "euc_array1 = [-2.1]\n",
    "euc_array2 = [0.5/3]\n",
    "DDCS.euclidean_distance(euc_array1, euc_array2)"
   ],
   "metadata": {
    "collapsed": false,
    "pycharm": {
     "name": "#%%\n"
    }
   }
  },
  {
   "cell_type": "markdown",
   "source": [
    "### P-norm Distance (Numerical)"
   ],
   "metadata": {
    "collapsed": false,
    "pycharm": {
     "name": "#%% md\n"
    }
   }
  },
  {
   "cell_type": "code",
   "execution_count": 4,
   "outputs": [
    {
     "name": "stdout",
     "output_type": "stream",
     "text": [
      "2 - norm Distance: 7.483314773547883\n"
     ]
    },
    {
     "data": {
      "text/plain": "7.483314773547883"
     },
     "execution_count": 4,
     "metadata": {},
     "output_type": "execute_result"
    }
   ],
   "source": [
    "norm_array1 = [2, 4, 3, 6, 8]\n",
    "norm_array2 = [3, 5, 5, 7, 1]\n",
    "p = 2\n",
    "DDCS.p_norm_distance(norm_array1, norm_array2, p)"
   ],
   "metadata": {
    "collapsed": false,
    "pycharm": {
     "name": "#%%\n"
    }
   }
  },
  {
   "cell_type": "markdown",
   "source": [
    "### Chebyshev Distance (Numerical)\n",
    "Select the max distance between x and y."
   ],
   "metadata": {
    "collapsed": false,
    "pycharm": {
     "name": "#%% md\n"
    }
   }
  },
  {
   "cell_type": "code",
   "execution_count": 5,
   "outputs": [
    {
     "name": "stdout",
     "output_type": "stream",
     "text": [
      "Chebyshev Distance: 6\n"
     ]
    },
    {
     "data": {
      "text/plain": "6"
     },
     "execution_count": 5,
     "metadata": {},
     "output_type": "execute_result"
    }
   ],
   "source": [
    "chebyshev_array1 = [4, 5, 6]\n",
    "chebyshev_array2 = [2, -1, 3]\n",
    "DDCS.chebyshev_distance(chebyshev_array1, chebyshev_array2)"
   ],
   "metadata": {
    "collapsed": false,
    "pycharm": {
     "name": "#%%\n"
    }
   }
  },
  {
   "cell_type": "markdown",
   "source": [
    "### Hamming Distance (Symbolic)\n",
    "Defined over symbolic data of the same length.\n",
    "Measure the number of substitutions required to change one string/number into another"
   ],
   "metadata": {
    "collapsed": false,
    "pycharm": {
     "name": "#%% md\n"
    }
   }
  },
  {
   "cell_type": "code",
   "execution_count": 6,
   "outputs": [
    {
     "name": "stdout",
     "output_type": "stream",
     "text": [
      "The length is not same.\n"
     ]
    }
   ],
   "source": [
    "hamm_str1 = \"datascience\"\n",
    "hamm_str2 = \"datedscience\"\n",
    "DDCS.hamming_distance(hamm_str1, hamm_str2)"
   ],
   "metadata": {
    "collapsed": false,
    "pycharm": {
     "name": "#%%\n"
    }
   }
  },
  {
   "cell_type": "markdown",
   "source": [
    "### Edit Distance (Symbolic)\n",
    "Defined on text data of any length. Measure the minimum number of operations required to transform one sequence of characters onto another. Operations can be: insertion, substitution, deletion."
   ],
   "metadata": {
    "collapsed": false,
    "pycharm": {
     "name": "#%% md\n"
    }
   }
  },
  {
   "cell_type": "code",
   "execution_count": 7,
   "outputs": [
    {
     "name": "stdout",
     "output_type": "stream",
     "text": [
      "Edit Distance: 5\n"
     ]
    },
    {
     "data": {
      "text/plain": "5"
     },
     "execution_count": 7,
     "metadata": {},
     "output_type": "execute_result"
    }
   ],
   "source": [
    "edit_str1 = \"intention\"\n",
    "edit_str2 = \"execution\"\n",
    "DDCS.edit_distance(edit_str1, edit_str2)"
   ],
   "metadata": {
    "collapsed": false,
    "pycharm": {
     "name": "#%%\n"
    }
   }
  },
  {
   "cell_type": "markdown",
   "source": [
    "## Statistics\n",
    "### For one-dimensional data\n",
    "This function can calculate the Mean, Median, Standard Deviation, Variance"
   ],
   "metadata": {
    "collapsed": false,
    "pycharm": {
     "name": "#%% md\n"
    }
   }
  },
  {
   "cell_type": "code",
   "execution_count": 8,
   "outputs": [
    {
     "name": "stdout",
     "output_type": "stream",
     "text": [
      "Mean: 1.7999999999999998\n",
      "Median: 1.7999999999999998\n",
      "Sample Standard Deviation: 0.848528137423857\n",
      "Sample Variance: 0.72\n"
     ]
    },
    {
     "data": {
      "text/plain": "(1.7999999999999998, 1.7999999999999998, 0.848528137423857, 0.72)"
     },
     "execution_count": 8,
     "metadata": {},
     "output_type": "execute_result"
    }
   ],
   "source": [
    "oneD = [1.2, 2.4]\n",
    "DDCS.statistic(oneD)"
   ],
   "metadata": {
    "collapsed": false,
    "pycharm": {
     "name": "#%%\n"
    }
   }
  },
  {
   "cell_type": "markdown",
   "source": [
    "### For multi-dimensional data\n",
    "#### Covariance"
   ],
   "metadata": {
    "collapsed": false,
    "pycharm": {
     "name": "#%% md\n"
    }
   }
  },
  {
   "cell_type": "code",
   "execution_count": 9,
   "outputs": [
    {
     "name": "stdout",
     "output_type": "stream",
     "text": [
      "Covariance: \n",
      "[[ 3.         -2.5         3.        ]\n",
      " [-2.5         2.33333333 -2.5       ]\n",
      " [ 3.         -2.5         3.        ]]\n"
     ]
    },
    {
     "data": {
      "text/plain": "array([[ 3.        , -2.5       ,  3.        ],\n       [-2.5       ,  2.33333333, -2.5       ],\n       [ 3.        , -2.5       ,  3.        ]])"
     },
     "execution_count": 9,
     "metadata": {},
     "output_type": "execute_result"
    }
   ],
   "source": [
    "Matrix = np.array([\n",
    "    [1, 5, 6],\n",
    "    [4, 3, 9],\n",
    "    [4, 2, 9]\n",
    "])\n",
    "\n",
    "DDCS.coVariance(Matrix)"
   ],
   "metadata": {
    "collapsed": false,
    "pycharm": {
     "name": "#%%\n"
    }
   }
  },
  {
   "cell_type": "markdown",
   "source": [
    "# Maximum Likelihood\n",
    "## Maximum Likelihood Estimate\n",
    "1. Get the probability under the parameter\n",
    "2. Take the natural log\n",
    "3. Take the derivative\n",
    "4. Set the detivative to 0 and calculate it\n",
    "\n",
    "### When introducing prior\n",
    "1. Get the probability under the parameter\n",
    "2. Multiply the probability and prior\n",
    "3. Take the natural log\n",
    "4. Take the derivative\n",
    "5. Set the detective to 0 and calculate it"
   ],
   "metadata": {
    "collapsed": false,
    "pycharm": {
     "name": "#%% md\n"
    }
   }
  },
  {
   "cell_type": "markdown",
   "source": [
    "# Regression\n",
    "## Linear regression\n",
    "\\begin{align}\n",
    "  {\\mathbf{\\hat{w}}}  &= ({{\\mathbf{X}}^T {\\mathbf{X}}})^{-1} {\\mathbf{X}}^T {\\mathbf{y}}\n",
    "\\end{align}"
   ],
   "metadata": {
    "collapsed": false,
    "pycharm": {
     "name": "#%% md\n"
    }
   }
  },
  {
   "cell_type": "code",
   "execution_count": 10,
   "outputs": [
    {
     "name": "stdout",
     "output_type": "stream",
     "text": [
      "fit_Wh: \n",
      "[[-0.41641259]\n",
      " [ 1.85257866]]\n",
      "Equation: y = -0.4164125851443399 + 1.8525786571521246 x\n"
     ]
    },
    {
     "data": {
      "text/plain": "(-0.4164125851443399, 1.8525786571521246)"
     },
     "execution_count": 10,
     "metadata": {},
     "output_type": "execute_result"
    }
   ],
   "source": [
    "linear_Xarr = [-2.1, -0.9, 0.2, 1.2, 2.4]\n",
    "linear_Yarr = [-4.2, -2.3, -0.1, 2.1, 3.9]\n",
    "DDCS.linear_regression(linear_Xarr, linear_Yarr)"
   ],
   "metadata": {
    "collapsed": false,
    "pycharm": {
     "name": "#%%\n"
    }
   }
  },
  {
   "cell_type": "markdown",
   "source": [
    "## Regularisation\n",
    "\\begin{align}\n",
    "  {\\mathbf{\\hat{W}}} &= ({\\mathbf{X}}^T {\\mathbf{X}} + \\sigma^2 {\\mathbf{\\Lambda}})^{-1} {\\mathbf{X}}^T {\\mathbf{y}}\n",
    "\\end{align}"
   ],
   "metadata": {
    "collapsed": false,
    "pycharm": {
     "name": "#%% md\n"
    }
   }
  },
  {
   "cell_type": "code",
   "execution_count": 11,
   "outputs": [
    {
     "name": "stdout",
     "output_type": "stream",
     "text": [
      "fit_Wh: \n",
      "[[0.01428571]\n",
      " [2.425     ]]\n",
      "Equation: y = 0.014285714285714221 + 2.425 x\n"
     ]
    },
    {
     "data": {
      "text/plain": "(0.014285714285714221, 2.425)"
     },
     "execution_count": 11,
     "metadata": {},
     "output_type": "execute_result"
    }
   ],
   "source": [
    "reg_Xarr = [-2, -1, 0, 1, 2]\n",
    "reg_Yarr = [-6.2, -2.6, 0.5, 2.7, 5.7]\n",
    "DDCS.regularised(reg_Xarr, reg_Yarr, sigma=1, lam=2)"
   ],
   "metadata": {
    "collapsed": false,
    "pycharm": {
     "name": "#%%\n"
    }
   }
  },
  {
   "cell_type": "markdown",
   "source": [
    "# Test\n",
    "## Square Sum Error"
   ],
   "metadata": {
    "collapsed": false,
    "pycharm": {
     "name": "#%% md\n"
    }
   }
  },
  {
   "cell_type": "code",
   "execution_count": 12,
   "outputs": [
    {
     "name": "stdout",
     "output_type": "stream",
     "text": [
      "Error: 30.779999999999998\n"
     ]
    },
    {
     "data": {
      "text/plain": "30.779999999999998"
     },
     "execution_count": 12,
     "metadata": {},
     "output_type": "execute_result"
    }
   ],
   "source": [
    "y = [-0.3, 4.2, 7.5]\n",
    "y_hat = [4, 4, 4]\n",
    "DDCS.sum_square_error(y, y_hat)"
   ],
   "metadata": {
    "collapsed": false,
    "pycharm": {
     "name": "#%%\n"
    }
   }
  },
  {
   "cell_type": "markdown",
   "source": [
    "# Classification\n",
    "## Maximum Likelihood Estimate - Logistic\n",
    "1. Transform logits $\\ell$ by using sigmoid function\n",
    "\\begin{align}\n",
    "  f(\\ell) &= \\text{sigmoid}(\\ell) = \\sigma(\\ell)\\\\\n",
    "  f(\\ell) &= \\frac{1}{1+e^{-\\ell}}\n",
    "\\end{align}"
   ],
   "metadata": {
    "collapsed": false,
    "pycharm": {
     "name": "#%% md\n"
    }
   }
  },
  {
   "cell_type": "code",
   "execution_count": 13,
   "outputs": [
    {
     "name": "stdout",
     "output_type": "stream",
     "text": [
      "Probability: [1.0497870683678638, 1.0183156388887342, 1.0067379469990854]\n"
     ]
    },
    {
     "data": {
      "text/plain": "[1.0497870683678638, 1.0183156388887342, 1.0067379469990854]"
     },
     "execution_count": 13,
     "metadata": {},
     "output_type": "execute_result"
    }
   ],
   "source": [
    "# This is sigmoid function\n",
    "logistic = [3, 4, 5]\n",
    "DDCS.logits_to_probabilities(logistic)"
   ],
   "metadata": {
    "collapsed": false,
    "pycharm": {
     "name": "#%%\n"
    }
   }
  },
  {
   "cell_type": "markdown",
   "source": [
    "\n",
    "2. Calculate the probability for each class\n",
    "\n",
    "For Bernoulli distribution:\n",
    "\\begin{align}\n",
    "  P(Y = 1|\\ell) &= \\frac{1}{1+e^{-\\ell}} \\\\\n",
    "  P(Y = 0|\\ell) &= 1-\\frac{1}{1+e^{-\\ell}} = \\frac{1}{1+e^{\\ell}}\n",
    "\\end{align}\n",
    "\n",
    "3. Take log for each probability\n",
    "\n",
    "For Bernoulli distribution\n",
    "\\begin{align}\n",
    "  log P(Y = 1|\\ell) &= log (\\frac{1}{1+e^{-\\ell}}) = -log (1+e^{-\\ell}) \\\\\n",
    "  log P(Y = 0|\\ell) &= log (1-\\frac{1}{1+e^{-\\ell}}) = -log (1+e^{\\ell})\n",
    "\\end{align}\n",
    "\n",
    "4. Take the derivative\n",
    "5. Set the derivate to 0 and calculate the MLE\n",
    "\n",
    "If we already have data, we can directly use calculated log equiation to get log-likelhood"
   ],
   "metadata": {
    "collapsed": false,
    "pycharm": {
     "name": "#%% md\n"
    }
   }
  },
  {
   "cell_type": "code",
   "execution_count": 14,
   "outputs": [
    {
     "name": "stdout",
     "output_type": "stream",
     "text": [
      "Log-Likelihood: -4.1975112051748615\n"
     ]
    },
    {
     "data": {
      "text/plain": "-4.1975112051748615"
     },
     "execution_count": 14,
     "metadata": {},
     "output_type": "execute_result"
    }
   ],
   "source": [
    "l0 = [3.72, -2.28, -2.72]\n",
    "l1 = [1.08, 10.92]\n",
    "DDCS.classification_MLE_two_class(l0, l1)"
   ],
   "metadata": {
    "collapsed": false,
    "pycharm": {
     "name": "#%%\n"
    }
   }
  },
  {
   "cell_type": "markdown",
   "source": [
    "## K-nearest Neighbours\n",
    "1. Calculate the distance between all data point and new data point\n",
    "2. Choose closest K point\n",
    "3. New data point is of class that need include more closest point"
   ],
   "metadata": {
    "collapsed": false,
    "pycharm": {
     "name": "#%% md\n"
    }
   }
  },
  {
   "cell_type": "code",
   "execution_count": 15,
   "outputs": [
    {
     "name": "stdout",
     "output_type": "stream",
     "text": [
      "Euclidean Distance: 3.70135110466435\n",
      "Euclidean Distance: 3.710795063055895\n",
      "Euclidean Distance: 3.6878177829171555\n",
      "Euclidean Distance: 3.8418745424597094\n",
      "Euclidean Distance: 4.026164427839479\n",
      "Euclidean Distance: 0.49999999999999994\n",
      "Predict new data point in class0\n"
     ]
    }
   ],
   "source": [
    "class0 = [[-2.1, -3.2], [-3.4, -1.2], [-2.6, -2.7]]\n",
    "class1 = [[3.2, 2.1], [1.2, 3.6], [0.6, 0]]\n",
    "newDataPoint = [0.2, -0.3]\n",
    "K = 3\n",
    "DDCS.KNN(class0, class1, newDataPoint, K)"
   ],
   "metadata": {
    "collapsed": false,
    "pycharm": {
     "name": "#%%\n"
    }
   }
  },
  {
   "cell_type": "markdown",
   "source": [
    "## Weight-nearest Neighbour\n",
    "1. Calculate the distance between all data point and new data point\n",
    "2. Calculate the weight of distance\n",
    "3. Compare two class weight, new data point is in the highest weight class"
   ],
   "metadata": {
    "collapsed": false,
    "pycharm": {
     "name": "#%% md\n"
    }
   }
  },
  {
   "cell_type": "code",
   "execution_count": 16,
   "outputs": [
    {
     "name": "stdout",
     "output_type": "stream",
     "text": [
      "Euclidean Distance: 3.70135110466435\n",
      "Weight: 0.39639750283065556\n",
      "Euclidean Distance: 3.710795063055895\n",
      "Weight: 0.3954627163945996\n",
      "Euclidean Distance: 3.6878177829171555\n",
      "Weight: 0.39774091789409277\n",
      "Euclidean Distance: 3.8418745424597094\n",
      "Weight: 0.38271349077081596\n",
      "Euclidean Distance: 4.026164427839479\n",
      "Weight: 0.365480955326441\n",
      "Euclidean Distance: 0.49999999999999994\n",
      "Weight: 0.8824969025845955\n",
      "Predict new data point in class1\n"
     ]
    }
   ],
   "source": [
    "# This is WNN function\n",
    "class0 = [[-2.1, -3.2], [-3.4, -1.2], [-2.6, -2.7]]\n",
    "class1 = [[3.2, 2.1], [1.2, 3.6], [0.6, 0]]\n",
    "newDataPoint = [0.2, -0.3]\n",
    "b = 2\n",
    "DDCS.WNN(class0, class1, newDataPoint, b)"
   ],
   "metadata": {
    "collapsed": false,
    "pycharm": {
     "name": "#%%\n"
    }
   }
  },
  {
   "cell_type": "code",
   "execution_count": 17,
   "outputs": [
    {
     "name": "stdout",
     "output_type": "stream",
     "text": [
      "Weight: 0.03254928098910344\n"
     ]
    },
    {
     "data": {
      "text/plain": "0.03254928098910344"
     },
     "execution_count": 17,
     "metadata": {},
     "output_type": "execute_result"
    }
   ],
   "source": [
    "# This is for calculate weight for distance\n",
    "b1 = 2\n",
    "distance = 13.7\n",
    "DDCS.weight_calculator(distance, b1)"
   ],
   "metadata": {
    "collapsed": false,
    "pycharm": {
     "name": "#%%\n"
    }
   }
  },
  {
   "cell_type": "markdown",
   "source": [
    " ## Bayesian classification\n",
    " 1. Calculate the mean and standard deviations for each class\n",
    " 2. Then plot distributions over data or claculate the actual values and get probability from Gaussian distribution"
   ],
   "metadata": {
    "collapsed": false,
    "pycharm": {
     "name": "#%% md\n"
    }
   }
  },
  {
   "cell_type": "code",
   "execution_count": 18,
   "outputs": [
    {
     "data": {
      "text/plain": "<Figure size 432x288 with 1 Axes>",
      "image/png": "[encoded data removed]"
     },
     "metadata": {
      "needs_background": "light"
     },
     "output_type": "display_data"
    }
   ],
   "source": [
    "# only for one dimensional data\n",
    "class0 = [-2.1, -0.9, 0.2]\n",
    "class1 = [1.2, 2.4]\n",
    "newDataPointSet = [1.3]\n",
    "DDCS.bayesian_classification(class0, class1, newDataPointSet)"
   ],
   "metadata": {
    "collapsed": false,
    "pycharm": {
     "name": "#%%\n"
    }
   }
  },
  {
   "cell_type": "markdown",
   "source": [
    "## Naive Baye\n",
    "\\begin{align}\n",
    "  P({y_\\lambda| x_\\lambda}) &\\propto P({y_\\lambda}) P({x_\\lambda| y_\\lambda})\n",
    "\\end{align}\n"
   ],
   "metadata": {
    "collapsed": false,
    "pycharm": {
     "name": "#%% md\n"
    }
   }
  },
  {
   "cell_type": "markdown",
   "source": [
    "# Cluster\n",
    "## K-Mean Clustering Algorithm\n",
    "\n",
    "K-Mean clustering is an iterative algorithm, it has two steps until it do not have any change.\n",
    "\n",
    "1. E-step: Calculate the centre of each cluster. The center of each cluster is mean for each cluster. It is normally initialised as random points or as random data point or calculate from predict cluster.\n",
    "\n",
    "2. M-step: Determine the cluster which each data point belong to. This is ofter done by calculation the distance between each point and each cluster center - the cluster which has the closest center is the one that that data point belongs to.\n"
   ],
   "metadata": {
    "collapsed": false,
    "pycharm": {
     "name": "#%% md\n"
    }
   }
  },
  {
   "cell_type": "code",
   "execution_count": 19,
   "outputs": [],
   "source": [
    "#np.random.seed(0)\n",
    "#Replace the DataPoints Here\n",
    "X = np.concatenate([\n",
    "    [[-2.1, -3.2]],\n",
    "    [[-3.4, -1.2]],\n",
    "    [[-2.6, -2.7]],\n",
    "    [[3.2, 2.1]],\n",
    "    [[1.2, 3.6]],\n",
    "    [[0.6, 0]]\n",
    "])\n",
    "#If you want to change the loss function, go loss in DDCS.py\n",
    "kmeans_iter = iter(DDCS.kmeans(X, 2))\n",
    "#You can use next(kmeans_iter) to call the next step"
   ],
   "metadata": {
    "collapsed": false,
    "pycharm": {
     "name": "#%%\n"
    }
   }
  },
  {
   "cell_type": "code",
   "execution_count": 20,
   "outputs": [],
   "source": [
    "#np.random.seed(0)\n",
    "#Replace the DataPoints Here\n",
    "X = np.concatenate([\n",
    "    [[-2.1, 0]],\n",
    "    [[-0.9, 0]],\n",
    "    [[0.2, 0]],\n",
    "    [[1.2, 0]],\n",
    "    [[2.4, 0]]\n",
    "])\n",
    "#If you want to change the loss function, go loss in DDCS.py\n",
    "kmeans_iter = iter(DDCS.kmeans(X, 2))\n",
    "#You can use next(kmeans_iter) to call the next step"
   ],
   "metadata": {
    "collapsed": false,
    "pycharm": {
     "name": "#%%\n"
    }
   }
  },
  {
   "cell_type": "code",
   "execution_count": 21,
   "outputs": [
    {
     "name": "stdout",
     "output_type": "stream",
     "text": [
      "Clustering\n",
      "loss = 1.107370280041685\n",
      "Centers are: [[ 0.50748496 -0.35021174]\n",
      " [-0.93272236 -1.75608129]]\n"
     ]
    },
    {
     "data": {
      "text/plain": "<Figure size 432x288 with 1 Axes>",
      "image/png": "[encoded data removed]"
     },
     "metadata": {
      "needs_background": "light"
     },
     "output_type": "display_data"
    }
   ],
   "source": [
    "next(kmeans_iter)"
   ],
   "metadata": {
    "collapsed": false,
    "pycharm": {
     "name": "#%%\n"
    }
   }
  },
  {
   "cell_type": "markdown",
   "source": [
    "# Convolution"
   ],
   "metadata": {
    "collapsed": false,
    "pycharm": {
     "name": "#%% md\n"
    }
   }
  },
  {
   "cell_type": "code",
   "execution_count": 22,
   "outputs": [
    {
     "name": "stdout",
     "output_type": "stream",
     "text": [
      "Normalisation factor: 1/7\n",
      "Convolution:\n",
      "[-10  30  60 105  80  40  35 -10]\n"
     ]
    },
    {
     "data": {
      "text/plain": "(7, array([-10,  30,  60, 105,  80,  40,  35, -10]))"
     },
     "execution_count": 22,
     "metadata": {},
     "output_type": "execute_result"
    }
   ],
   "source": [
    "# one dimension\n",
    "kernel1D = [-1, 5, -1]\n",
    "data1D = [0, 0, 10, 20, 30, 25, 15, 10, 0, 0]\n",
    "DDCS.convolution(kernel1D, data1D, dimensions=1)"
   ],
   "metadata": {
    "collapsed": false,
    "pycharm": {
     "name": "#%%\n"
    }
   }
  },
  {
   "cell_type": "code",
   "execution_count": 23,
   "metadata": {
    "pycharm": {
     "name": "#%%\n"
    }
   },
   "outputs": [
    {
     "name": "stdout",
     "output_type": "stream",
     "text": [
      "Normalisation factor: 1/8\n",
      "Convolution:\n",
      "[[-35   0  35]\n",
      " [-40   0  40]\n",
      " [-35   0  35]]\n"
     ]
    },
    {
     "data": {
      "text/plain": "(8,\n array([[-35,   0,  35],\n        [-40,   0,  40],\n        [-35,   0,  35]]))"
     },
     "execution_count": 23,
     "metadata": {},
     "output_type": "execute_result"
    }
   ],
   "source": [
    "# two dimension\n",
    "kernel2D = [\n",
    "    [-1, 0, 1],\n",
    "    [-2, 0, 2],\n",
    "    [-1, 0, 1]\n",
    "]\n",
    "data2D = [\n",
    "    [0, 5, 5, 5, 0],\n",
    "    [0, 5, 10, 5, 0],\n",
    "    [0, 10, 10, 10, 0],\n",
    "    [0, 5, 10, 5, 0],\n",
    "    [0, 5, 5, 5, 0]\n",
    "]\n",
    "DDCS.convolution(kernel2D, data2D, dimensions=2)"
   ]
  }
 ],
 "metadata": {
  "kernelspec": {
   "display_name": "Python 3 (ipykernel)",
   "language": "python",
   "name": "python3"
  },
  "language_info": {
   "codemirror_mode": {
    "name": "ipython",
    "version": 3
   },
   "file_extension": ".py",
   "mimetype": "text/x-python",
   "name": "python",
   "nbconvert_exporter": "python",
   "pygments_lexer": "ipython3",
   "version": "3.9.12"
  },
  "toc": {
   "base_numbering": 1,
   "nav_menu": {},
   "number_sections": false,
   "sideBar": true,
   "skip_h1_title": false,
   "title_cell": "Table of Contents",
   "title_sidebar": "Contents",
   "toc_cell": false,
   "toc_position": {},
   "toc_section_display": true,
   "toc_window_display": true
  }
 },
 "nbformat": 4,
 "nbformat_minor": 1
}
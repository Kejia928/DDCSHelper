{
 "cells": [
  {
   "cell_type": "code",
   "execution_count": 1,
   "metadata": {
    "pycharm": {
     "name": "#%%\n"
    }
   },
   "outputs": [],
   "source": [
    "import DDCS as DDCS\n",
    "import numpy as np"
   ]
  },
  {
   "cell_type": "markdown",
   "metadata": {
    "pycharm": {
     "name": "#%% md\n"
    }
   },
   "source": [
    "## Statistic\n",
    "This function can calculate the Mean, Median, Standard Deviation, Variance"
   ]
  },
  {
   "cell_type": "code",
   "execution_count": 2,
   "metadata": {
    "pycharm": {
     "name": "#%%\n"
    }
   },
   "outputs": [
    {
     "name": "stdout",
     "output_type": "stream",
     "text": [
      "Mean: 1.7142857142857142\n",
      "Median: 2.0\n",
      "Sample Standard Deviation: 3.498298906339371\n",
      "Sample Variance: 12.238095238095239\n"
     ]
    },
    {
     "data": {
      "text/plain": [
       "(1.7142857142857142, 2.0, 3.498298906339371, 12.238095238095239)"
      ]
     },
     "execution_count": 2,
     "metadata": {},
     "output_type": "execute_result"
    }
   ],
   "source": [
    "array = [-3, 2, 4, 6, -2, 0, 5]\n",
    "DDCS.statistic(array)"
   ]
  },
  {
   "cell_type": "markdown",
   "metadata": {
    "pycharm": {
     "name": "#%% md\n"
    }
   },
   "source": [
    "## Distance\n",
    "### Manhattan Distance (Numerical)\n",
    "This function can calculate the manhattan distance between numerical data points. This is 1-norm distance (p = 1)."
   ]
  },
  {
   "cell_type": "code",
   "execution_count": 3,
   "metadata": {
    "pycharm": {
     "name": "#%%\n"
    }
   },
   "outputs": [
    {
     "name": "stdout",
     "output_type": "stream",
     "text": [
      "Manhattan Distance: 2.1\n"
     ]
    },
    {
     "data": {
      "text/plain": [
       "2.1"
      ]
     },
     "execution_count": 3,
     "metadata": {},
     "output_type": "execute_result"
    }
   ],
   "source": [
    "man_array1 = [1.1]\n",
    "man_array2 = [-1]\n",
    "DDCS.manhattan_distance(man_array1, man_array2)"
   ]
  },
  {
   "cell_type": "markdown",
   "metadata": {
    "pycharm": {
     "name": "#%% md\n"
    }
   },
   "source": [
    "### Euclidean Distance (Numerical)\n",
    "This function can calculate the euclidean distance between numerical data points. This is 2-norm distance (p = 2)."
   ]
  },
  {
   "cell_type": "code",
   "execution_count": 4,
   "metadata": {
    "pycharm": {
     "name": "#%%\n"
    }
   },
   "outputs": [
    {
     "name": "stdout",
     "output_type": "stream",
     "text": [
      "Euclidean Distance: 2.1\n"
     ]
    },
    {
     "data": {
      "text/plain": [
       "2.1"
      ]
     },
     "execution_count": 4,
     "metadata": {},
     "output_type": "execute_result"
    }
   ],
   "source": [
    "euc_array1 = [1.1]\n",
    "euc_array2 = [-1]\n",
    "DDCS.euclidean_distance(euc_array1, euc_array2)"
   ]
  },
  {
   "cell_type": "markdown",
   "metadata": {
    "pycharm": {
     "name": "#%% md\n"
    }
   },
   "source": [
    "### P-norm Distance (Numerical)"
   ]
  },
  {
   "cell_type": "code",
   "execution_count": 5,
   "metadata": {
    "pycharm": {
     "name": "#%%\n"
    }
   },
   "outputs": [
    {
     "name": "stdout",
     "output_type": "stream",
     "text": [
      "2 - norm Distance: 7.483314773547883\n"
     ]
    },
    {
     "data": {
      "text/plain": [
       "7.483314773547883"
      ]
     },
     "execution_count": 5,
     "metadata": {},
     "output_type": "execute_result"
    }
   ],
   "source": [
    "norm_array1 = [2, 4, 3, 6, 8]\n",
    "norm_array2 = [3, 5, 5, 7, 1]\n",
    "p = 2\n",
    "DDCS.p_norm_distance(norm_array1, norm_array2, p)"
   ]
  },
  {
   "cell_type": "markdown",
   "metadata": {
    "pycharm": {
     "name": "#%% md\n"
    }
   },
   "source": [
    "### Chebyshev Distance (Numerical)\n",
    "Select the max distance between x and y."
   ]
  },
  {
   "cell_type": "code",
   "execution_count": 6,
   "metadata": {
    "pycharm": {
     "name": "#%%\n"
    }
   },
   "outputs": [
    {
     "name": "stdout",
     "output_type": "stream",
     "text": [
      "Chebyshev Distance: 6\n"
     ]
    },
    {
     "data": {
      "text/plain": [
       "6"
      ]
     },
     "execution_count": 6,
     "metadata": {},
     "output_type": "execute_result"
    }
   ],
   "source": [
    "cheb_array1 = [4, 5, 6]\n",
    "cheb_array2 = [2, -1, 3]\n",
    "DDCS.chebyshev_distance(cheb_array1, cheb_array2)"
   ]
  },
  {
   "cell_type": "markdown",
   "metadata": {
    "pycharm": {
     "name": "#%% md\n"
    }
   },
   "source": [
    "### Hamming Distance (Symbolic)\n",
    "Defined over symbolic data of the same length.\n",
    "Measure the number of substitutions required to change one string/number into another"
   ]
  },
  {
   "cell_type": "code",
   "execution_count": 7,
   "metadata": {
    "pycharm": {
     "name": "#%%\n"
    }
   },
   "outputs": [
    {
     "name": "stdout",
     "output_type": "stream",
     "text": [
      "Hamming Distance: 3\n"
     ]
    },
    {
     "data": {
      "text/plain": [
       "3"
      ]
     },
     "execution_count": 7,
     "metadata": {},
     "output_type": "execute_result"
    }
   ],
   "source": [
    "hamm_str1 = \"weather\"\n",
    "hamm_str2 = \"further\"\n",
    "DDCS.hamming_distance(hamm_str1, hamm_str2)"
   ]
  },
  {
   "cell_type": "markdown",
   "metadata": {
    "pycharm": {
     "name": "#%% md\n"
    }
   },
   "source": [
    "### Edit Distance (Symbolic)\n",
    "Defined on text data of any length. Measure the minimum number of operations required to transform one sequence of characters onto another. Operations can be: insertion, substitution, deletion."
   ]
  },
  {
   "cell_type": "code",
   "execution_count": 8,
   "metadata": {
    "pycharm": {
     "name": "#%%\n"
    }
   },
   "outputs": [
    {
     "name": "stdout",
     "output_type": "stream",
     "text": [
      "Edit Distance: 5\n"
     ]
    },
    {
     "data": {
      "text/plain": [
       "5"
      ]
     },
     "execution_count": 8,
     "metadata": {},
     "output_type": "execute_result"
    }
   ],
   "source": [
    "edit_str1 = \"intention\"\n",
    "edit_str2 = \"execution\"\n",
    "DDCS.edit_distance(edit_str1, edit_str2)"
   ]
  },
  {
   "cell_type": "markdown",
   "metadata": {
    "pycharm": {
     "name": "#%% md\n"
    }
   },
   "source": [
    "## Maximum Likelihood\n",
    "### Maximum Likelihood Estimate\n",
    "1. Get the probability under the parameter\n",
    "2. Take the natural log\n",
    "3. Take the derivative\n",
    "4. Set the detivative to 0 and calculate it\n",
    "\n",
    "### When introducing prior\n",
    "1. Get the probability under the parameter\n",
    "2. Multiply the probability and prior\n",
    "3. Take the natural log\n",
    "4. Take the derivative\n",
    "5. Set the detective to 0 and calculate it"
   ]
  },
  {
   "cell_type": "markdown",
   "metadata": {
    "pycharm": {
     "name": "#%% md\n"
    }
   },
   "source": [
    "## Regression\n",
    "### Linear regression\n",
    "\\begin{align}\n",
    "  {\\mathbf{\\hat{w}}}  &= ({{\\mathbf{X}}^T {\\mathbf{X}}})^{-1} {\\mathbf{X}}^T {\\mathbf{y}}\n",
    "\\end{align}"
   ]
  },
  {
   "cell_type": "code",
   "execution_count": 9,
   "metadata": {
    "pycharm": {
     "name": "#%%\n"
    }
   },
   "outputs": [
    {
     "name": "stdout",
     "output_type": "stream",
     "text": [
      "fit_Wh: \n",
      "[[ 2.525     ]\n",
      " [-7.91284404]]\n",
      "Equation: y = 2.5250000000000004 + -7.912844036697248 x\n"
     ]
    },
    {
     "data": {
      "text/plain": [
       "(2.5250000000000004, -7.912844036697248)"
      ]
     },
     "execution_count": 9,
     "metadata": {},
     "output_type": "execute_result"
    }
   ],
   "source": [
    "linear_Xarr = [-1.0, -0.3, 0.3, 1.0]\n",
    "linear_Yarr = [10.3, 5.3, -0.2, -5.3]\n",
    "DDCS.linear_regression(linear_Xarr, linear_Yarr)"
   ]
  },
  {
   "cell_type": "markdown",
   "metadata": {
    "pycharm": {
     "name": "#%% md\n"
    }
   },
   "source": [
    "### Regularisation\n",
    "\\begin{align}\n",
    "  {\\mathbf{\\hat{W}}} &= ({\\mathbf{X}}^T {\\mathbf{X}} + \\sigma^2 {\\mathbf{\\Lambda}})^{-1} {\\mathbf{X}}^T {\\mathbf{y}}\n",
    "\\end{align}"
   ]
  },
  {
   "cell_type": "code",
   "execution_count": 10,
   "metadata": {
    "pycharm": {
     "name": "#%%\n"
    }
   },
   "outputs": [
    {
     "name": "stdout",
     "output_type": "stream",
     "text": [
      "fit_Wh: \n",
      "[[0.01428571]\n",
      " [2.425     ]]\n",
      "Equation: y = 0.014285714285714346 + 2.425 x\n"
     ]
    },
    {
     "data": {
      "text/plain": [
       "(0.014285714285714346, 2.425)"
      ]
     },
     "execution_count": 10,
     "metadata": {},
     "output_type": "execute_result"
    }
   ],
   "source": [
    "reg_Xarr = [-2, -1, 0, 1, 2]\n",
    "reg_Yarr = [-6.2, -2.6, 0.5, 2.7, 5.7]\n",
    "DDCS.regularised(reg_Xarr, reg_Yarr, sigma=1, lam=2)"
   ]
  },
  {
   "cell_type": "markdown",
   "metadata": {
    "pycharm": {
     "name": "#%% md\n"
    }
   },
   "source": [
    "## Classification\n",
    "### Maximum Likelihood Estimate - Logistic\n",
    "1. Transform logits $\\ell$ by using sigmoid function\n",
    "\\begin{align}\n",
    "  f(\\ell) &= \\text{sigmoid}(\\ell) = \\sigma(\\ell)\\\\\n",
    "  f(\\ell) &= \\frac{1}{1+e^{-\\ell}}\n",
    "\\end{align}\n",
    "\n",
    "2. Calculate the probability for each class\n",
    "\n",
    "For Bernoulli distribution:\n",
    "\\begin{align}\n",
    "  P(Y = 1|\\ell) &= \\frac{1}{1+e^{-\\ell}} \\\\\n",
    "  P(Y = 0|\\ell) &= 1-\\frac{1}{1+e^{-\\ell}} = \\frac{1}{1+e^{\\ell}}\n",
    "\\end{align}\n",
    "\n",
    "3. Take log for each probability\n",
    "\n",
    "For Bernoulli distribution\n",
    "\\begin{align}\n",
    "  log P(Y = 1|\\ell) &= log (\\frac{1}{1+e^{-\\ell}}) = -log (1+e^{-\\ell}) \\\\\n",
    "  log P(Y = 0|\\ell) &= log (1-\\frac{1}{1+e^{-\\ell}}) = -log (1+e^{\\ell})\n",
    "\\end{align}\n",
    "\n",
    "4. Take the derivative\n",
    "5. Set the derivate to 0 and calculate the MLE\n",
    "\n",
    "If we already have data, we can directly use calculated log equiation to get log-likelhood"
   ]
  },
  {
   "cell_type": "code",
   "execution_count": 11,
   "metadata": {
    "pycharm": {
     "name": "#%%\n"
    }
   },
   "outputs": [
    {
     "name": "stdout",
     "output_type": "stream",
     "text": [
      "Log-Likelihood: -0.0009114664537742015\n"
     ]
    },
    {
     "data": {
      "text/plain": [
       "-0.0009114664537742015"
      ]
     },
     "execution_count": 11,
     "metadata": {},
     "output_type": "execute_result"
    }
   ],
   "source": [
    "l0 = [-53, -46]\n",
    "l1 = [48, 7]\n",
    "DDCS.classification_MLE_two_class(l0, l1)"
   ]
  },
  {
   "cell_type": "markdown",
   "metadata": {
    "pycharm": {
     "name": "#%% md\n"
    }
   },
   "source": [
    "### K-nearest Neighbours\n",
    "1. Calculate the distance between all data point and new data point\n",
    "2. Choose closest K point\n",
    "3. New data point is of class that need include more closest point"
   ]
  },
  {
   "cell_type": "markdown",
   "metadata": {
    "pycharm": {
     "name": "#%% md\n"
    }
   },
   "source": [
    "### Weight-nearest Neighbour"
   ]
  },
  {
   "cell_type": "code",
   "execution_count": 12,
   "metadata": {
    "pycharm": {
     "name": "#%%\n"
    }
   },
   "outputs": [
    {
     "name": "stdout",
     "output_type": "stream",
     "text": [
      "Weight: 0.03254928098910344\n"
     ]
    },
    {
     "data": {
      "text/plain": [
       "0.03254928098910344"
      ]
     },
     "execution_count": 12,
     "metadata": {},
     "output_type": "execute_result"
    }
   ],
   "source": [
    "DDCS.weight_calculator(13.7, 2)"
   ]
  },
  {
   "cell_type": "markdown",
   "metadata": {
    "pycharm": {
     "name": "#%% md\n"
    }
   },
   "source": [
    "## Cluster\n",
    "### K-Mean"
   ]
  },
  {
   "cell_type": "code",
   "execution_count": 1,
   "metadata": {
    "pycharm": {
     "name": "#%%\n"
    }
   },
   "outputs": [],
   "source": [
    "np.random.seed(0)\n",
    "#Replace the DataPoints Here\n",
    "X = np.concatenate([\n",
    "    np.random.randn(50, 2) / 5 + np.array([1, 0]),\n",
    "    np.random.randn(50, 2) / 5,\n",
    "    np.random.randn(50, 2) / 5 + np.array([-1, 0])\n",
    "])\n",
    "\n",
    "#If you want to change the loss function, go loss in DDCS.py\n",
    "kmeans_iter = iter(DDCS.kmeans(X, 3))\n",
    "#You can use next(kmeans_iter) to call the next step\n",
    "\n"
   ]
  },
  {
   "cell_type": "code",
   "execution_count": 11,
   "metadata": {
    "pycharm": {
     "name": "#%%\n"
    }
   },
   "outputs": [
    {
     "name": "stdout",
     "output_type": "stream",
     "text": [
      "Calculating Mean\n",
      "loss = 0.04043554244949957\n",
      "Centers are: [[-1.03840370e+00 -6.97046529e-04]\n",
      " [-4.36769257e-02  2.30163721e-02]\n",
      " [ 9.82256496e-01  2.85442339e-02]]\n"
     ]
    },
    {
     "data": {
      "image/png": "[encoded data removed]",
      "text/plain": [
       "<Figure size 432x288 with 1 Axes>"
      ]
     },
     "metadata": {
      "needs_background": "light"
     },
     "output_type": "display_data"
    }
   ],
   "source": [
    "next(kmeans_iter)"
   ]
  }
 ],
 "metadata": {
  "kernelspec": {
   "display_name": "Python 3 (ipykernel)",
   "language": "python",
   "name": "python3"
  },
  "language_info": {
   "codemirror_mode": {
    "name": "ipython",
    "version": 3
   },
   "file_extension": ".py",
   "mimetype": "text/x-python",
   "name": "python",
   "nbconvert_exporter": "python",
   "pygments_lexer": "ipython3",
   "version": "3.9.12"
  }
 },
 "nbformat": 4,
 "nbformat_minor": 1
}
